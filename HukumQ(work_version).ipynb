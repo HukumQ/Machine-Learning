{
  "cells": [
    {
      "cell_type": "markdown",
      "metadata": {
        "id": "view-in-github",
        "colab_type": "text"
      },
      "source": [
        "<a href=\"https://colab.research.google.com/github/fakhrulnurmulyana/ML_Capstone/blob/main/HukumQ(work_version).ipynb\" target=\"_parent\"><img src=\"https://colab.research.google.com/assets/colab-badge.svg\" alt=\"Open In Colab\"/></a>"
      ]
    },
    {
      "cell_type": "code",
      "execution_count": 1,
      "metadata": {
        "id": "DrELOBKeIb1r"
      },
      "outputs": [],
      "source": [
        "# prepare dataset\n",
        "import json\n",
        "import pandas as pd"
      ]
    },
    {
      "cell_type": "code",
      "source": [
        "%%writefile content.json\n",
        "{\"intents\": [\n",
        "  {\"tag\": \"sapaan\",\n",
        "    \"patterns\": [\n",
        "      \"Halo\",\n",
        "      \"Hi\",\n",
        "      \"Selamat Pagi\",\n",
        "      \"Selamat Siang\",\n",
        "      \"Selamat Malam\",\n",
        "      \"Salam\",\n",
        "      \"Assalamualaikum\",\n",
        "      \"Mari kita berbicara\",\n",
        "      \"Salam kenal\",\n",
        "      \"Hai, kawan!\",\n",
        "      \"Hai, sobat!\",\n",
        "      \"Salam sejahtera\",\n",
        "      \"p\",\n",
        "      \"oi\",\n",
        "      \"oy\",\n",
        "      \"spada\"\n",
        "    ],\n",
        "    \"responses\": [\n",
        "      \"Halo\",\n",
        "      \"Selamat datang\",\n",
        "      \"Apa yang bisa saya bantu?\",\n",
        "      \"Ada yang perlu diobrolkan?\",\n",
        "      \"Waalaikumusslaam\",\n",
        "      \"Mari kita berbicara\",\n",
        "      \"Apa kabar, teman?\",\n",
        "      \"Salam kenal\",\n",
        "      \"Hai\",\n",
        "      \"Hai, kawan!\",\n",
        "      \"Hai, sobat!\",\n",
        "      \"Halo!\",\n",
        "      \"Apa yang bisa saya bantu untukmu?\"\n",
        "    ]\n",
        "  },\n",
        "  {\"tag\": \"pamitan\",\n",
        "      \"patterns\": [\n",
        "        \"terima kasih\",\n",
        "        \"terimakasih\",\n",
        "        \"terimakasih banyak\",\n",
        "        \"terima kasih\",\n",
        "        \"makasih\",\n",
        "        \"dadah\",\n",
        "        \"Dah\",\n",
        "        \"Daah\",\n",
        "        \"adios\",\n",
        "        \"okay\",\n",
        "        \"oke\",\n",
        "        \"Selamat Tinggal\",\n",
        "        \"Semoga harimu penuh berkah.\",\n",
        "        \"Sukses untukmu!\",\n",
        "        \"Hingga kita kembali bertemu.\",\n",
        "        \"Terima kasih atas waktu dan perhatiannya.\",\n",
        "        \"bye\"\n",
        "      ],\n",
        "      \"responses\": [\n",
        "        \"Senang bisa membantu!\",\n",
        "        \"Semoga kita bisa berinteraksi lagi di lain waktu.\",\n",
        "        \"Sampai jumpa, semoga harimu menyenangkan!\",\n",
        "        \"Adios! Hasta luego.\",\n",
        "        \"semoga bermanfaat.\",\n",
        "        \"yoi\",\n",
        "        \"bye\",\n",
        "        \"dadah\",\n",
        "        \"bye, hiks\"\n",
        "      ]\n",
        "    },\n",
        "    {\"tag\": \"hukumq\",\n",
        "      \"patterns\": [\n",
        "        \"apa itu HukumQ ?\",\n",
        "        \"Apa yang dimaksud dengan HukumQ?\",\n",
        "        \"Bisakah Anda menjelaskan apa itu HukumQ?\",\n",
        "        \"HukumQ itu apa?\",\n",
        "        \"Apa definisi HukumQ?\",\n",
        "        \"Apa HukumQ?\",\n",
        "        \"HukumQ\",\n",
        "        \"HukumQ apa?\",\n",
        "        \"HukumQ arti\",\n",
        "        \"Arti HukumQ\",\n",
        "        \"Apa HukumQ\",\n",
        "        \"HukumQ itu seperti apa?\",\n",
        "        \"Tolong jelaskan istilah HukumQ.\",\n",
        "        \"Apakah Anda bisa memberikan definisi singkat tentang HukumQ?\",\n",
        "        \"Jelaskan HukumQ\",\n",
        "        \"Jelaskan apa itu HukumQ\"\n",
        "      ],\n",
        "      \"responses\": [\n",
        "        \"HukumQ adalah aplikasi yang memberikan jawaban terkait pertanyaan hukum tertulis di Indonesia.\",\n",
        "        \"HukumQ adalah aplikasi yang fokus memberikan jawaban terkait pertanyaan hukum tertulis di Indonesia\",\n",
        "        \"Hmm, terdengar seperti nama saya. Kalo benar berarti itu adalah aplikasi chatbot yang dibuat oleh peserta Kampus Merdeka Bangkit 2023 batch 2. aplikasi ini dibuat agar bisa menjelaskan hukum tertulis di indonesia.\",\n",
        "        \"HukumQ adalah aplikasi yang bisa menjawab pertanyaan tentang hukum tertulis di indonesia. Belum semua hukum tertulis sih, hanya sebagian pada bidang yang kecil, karena saya masih dalam versi pengembangan.\"\n",
        "      ]\n",
        "    },\n",
        "    {\"tag\": \"siapa\",\n",
        "      \"patterns\": [\n",
        "        \"Kamu siapa ?\",\n",
        "        \"Bisa kenalan nggak?\",\n",
        "        \"Identitas kamu apa?\",\n",
        "        \"Boleh tahu siapa kamu?\",\n",
        "        \"Kamu punya nama?\",\n",
        "        \"Sebutkan siapa diri kamu.\",\n",
        "        \"Siapakah yang sedang berbicara?\",\n",
        "        \"Apakah kamu bisa memperkenalkan diri?\",\n",
        "        \"Nama panggilan kamu apa?\",\n",
        "        \"Siapa yang,sedang online di sini?\",\n",
        "        \"Tolong perkenalkan dirimu.\",\n",
        "        \"Nama?\",\n",
        "        \"siapa?\",\n",
        "        \"Nama mu\",\n",
        "        \"NamaMu\"\n",
        "      ],\n",
        "      \"responses\": [\n",
        "        \"Saya adalah HukumQ\",\n",
        "        \"aplikasi yang dibangun untuk membantu memahami hukum tertulis tertulis di indonesia, HukumQ\",\n",
        "        \"Saya merupakan HukumQ\",\n",
        "        \"HukumQ, platform untuk menjawab pertanyaan seputar hukum di Indonesia.\",\n",
        "        \"HukumQ di sini\",\n",
        "        \"HukumQ hadir untuk mempermudah pemahaman hukum tertulis di Indonesia.\",\n",
        "        \"Saya adalah HukumQ, solusi untuk pertanyaan-pertanyaan hukum Anda.\",\n",
        "        \"HukumQ hadir sebagai panduan hukum online di Indonesia.\",\n",
        "        \"Saya adalah HukumQ, platform pintar untuk memahami peraturan hukum di Indonesia.\",\n",
        "        \"HukumQ di sini untuk menjawab pertanyaan hukum Anda\",\n",
        "        \"Saya adalah HukumQ, sahabat untuk menjelaskan hukum tertulis Indonesia.\",\n",
        "        \"HukumQ\",\n",
        "        \"Chatbot HukumQ\",\n",
        "        \"Sebenarnya nama saya adalah HukumQ, tapi mungkin dalam konteks chat ini lebih tepat HukumMU deh\"\n",
        "      ]\n",
        "    },\n",
        "    {\"tag\": \"definisi_praperadilan\",\n",
        "      \"patterns\": [\n",
        "        \"Apa itu Praperadilan?\",\n",
        "        \"Definisi Praperadilan\"\n",
        "      ],\n",
        "      \"responses\": [\n",
        "        \"Praperadilan adalah proses hukum yang memberikan wewenang kepada pengadilan untuk memeriksa keabsahan suatu penangkapan, penahanan, penghentian penyidikan, atau penghentian penuntutan sebelum kasus itu diajukan ke pengadilan pidana.\\nTujuan Praperadilan adalah melindungi hak asasi manusia dan memastikan bahwa tindakan penegak hukum sesuai dengan ketentuan hukum yang berlaku.\"\n",
        "      ]\n",
        "    },\n",
        "    {\"tag\": \"Siapa_Berhak_Praperadilan\",\n",
        "      \"patterns\": [\n",
        "        \"Siapa yang berhak mengajukan Praperadilan?\",\n",
        "        \"Proses pengajuan Praperadilan\"\n",
        "      ],\n",
        "      \"responses\": [\n",
        "        \"Siapa pun yang merasa hak-haknya dilanggar, termasuk tersangka, terdakwa, atau pihak yang dirugikan, dapat mengajukan Praperadilan.\",\n",
        "        \"Proses pengajuan Praperadilan dimulai dengan mengajukan permohonan ke pengadilan yang berwenang sesuai dengan peraturan perundang-undangan yang berlaku.\"\n",
        "      ]\n",
        "    },\n",
        "    {\"tag\": \"wewenang_praperadilan\",\n",
        "      \"patterns\": [\n",
        "        \"Wewenang pengadilan negeri dalam Praperadilan\",\n",
        "        \"Bagian Kesatu Praperadilan\",\n",
        "        \"Pasal 77 KUHAP\"\n",
        "      ],\n",
        "      \"responses\": [\n",
        "        \"Pengadilan negeri berwenang untuk memeriksa dan memutus tentang: \\n- Sah atau tidaknya penangkapan, penahanan, penghentian penyidikan, atau penghentian penuntutan.\\n- Ganti kerugian dan atau rehabilitasi bagi seorang yang perkara pidananya dihentikan pada tingkat penyidikan atau penuntutan.\"\n",
        "      ]\n",
        "    },\n",
        "    {\"tag\": \"pelaksanaan_wewenang_pasal_78\",\n",
        "      \"patterns\": [\"Pelaksanaan wewenang pengadilan negeri\"],\n",
        "      \"responses\": [\n",
        "        \"(1) Praperadilan dipimpin oleh hakim tunggal yang ditunjuk oleh ketua pengadilan negeri dan dibantu oleh seorang panitera.\",\n",
        "        \"(2) Yang melaksanakan wewenang pengadilan negeri sebagaimana dimaksud dalam Pasal 77 adalah praperadilan.\"\n",
        "      ]\n",
        "    },\n",
        "    {\n",
        "      \"tag\": \"Permintaan_Pemeriksaan_Pasal_79\",\n",
        "      \"patterns\": [\"Permintaan pemeriksaan menurut Pasal 79\"],\n",
        "      \"responses\": [\n",
        "        \"Permintaan pemeriksaan tentang sah atau tidaknya suatu penangkapan atau penahanan diajukan oleh tersangka, keluarga, atau kuasanya kepada ketua pengadilan negeri dengan menyebutkan alasannya.\"\n",
        "      ]\n",
        "    },\n",
        "    {\"tag\": \"Permintaan_Pemeriksaan_Pasal_80\",\n",
        "      \"patterns\": [\"Permintaan pemeriksaan menurut Pasal 80\"],\n",
        "      \"responses\": [\n",
        "        \"Permintaan untuk memeriksa sah atau tidaknya suatu penghentian penyidikan atau penuntutan dapat diajukan oleh penyidik, penuntut umum, atau pihak ketiga yang berkepentingan kepada ketua pengadilan negeri dengan menyebutkan alasannya.\"\n",
        "      ]\n",
        "    },\n",
        "    {\"tag\": \"Permintaan_Pemeriksaan_Pasal_81\",\n",
        "      \"patterns\": [\"Permintaan pemeriksaan menurut Pasal 81\"],\n",
        "      \"responses\": [\n",
        "        \"Permintaan ganti kerugian dan atau rehabilitasi akibat tidak sahnya penangkapan atau penahanan, atau akibat sahnya penghentian penyidikan atau penuntutan diajukan oleh tersangka atau pihak ketiga yang berkepentingan kepada ketua pengadilan negeri dengan menyebut alasannya.\"\n",
        "       ]\n",
        "    },\n",
        "    {\"tag\": \"Proses_Pemeriksaan_Pasal_82\",\n",
        "      \"patterns\": [\n",
        "        \"Proses pemeriksaan praperadilan menurut Pasal 82\",\n",
        "        \"Pasal 82\",\n",
        "        \"pemeriksaan praperadilan menurut Pasal 82\",\n",
        "        \"praperadilan menurut Pasal 82\"\n",
        "      ],\n",
        "      \"responses\": [\n",
        "        \"\\n(1) Acara pemeriksaan praperadilan untuk hal sebagaimana dimaksud dalam Pasal 79, Pasal 80 dan Pasal 81 ditentukan sebagai berikut: \\n a. Dalam waktu tiga hari setelah diterimanya permintaan, hakim yang ditunjuk menetapkan hari sidang; \\n b. Dalam memeriksa dan memutus tentang sah atau tidaknya penangkapan atau penahanan, sah atau tidaknya penghentian penyidikan atau penuntutan; permintaan ganti kerugian dan atau rehabilitasi akibat tidak sahnya penangkapan atau penahanan, akibat sahnya penghentian penyidikan atau penuntutan dan ada benda yang disita yang tidak termasuk alat pembuktian, hakim mendengar keterangan baik dan tersangka atau pemohon maupun dan pejabat yang berwenang; \\n c. Pemeriksaan tersebut dilakukan cara cepat dan selambat-lambatnya tujuh hari hakim harus sudah menjatuhkan putusannya;\\n d. Dalam hal suatu perkara sudah mulai diperiksa oleh pengadilan negeri sedangkan pemeriksaan mengenai permintaan kepada praperadilan belum selesai, maka permintaan tersebut gugur; \\n e. Putusan praperadilan pada tingkat penyidikan tidak menutup kemungkinan untuk mengadakan pemeriksaan praperadilan lagi pada tingkat pemeriksaan oleh penuntut umum, jika untuk itu diajukan permintaan baru. \\n(2) Putusan hakim dalam acara pemeriksaan praperadilan mengenai hal sebagaimana dimaksud dalam Pasal 79, Pasal 80 dan Pasal 81, harus memuat dengan jelas dasar dan alasannya. \\n(3) Isi putusan selain memuat ketentuan sebagaimana dimaksud dalam ayat (2) juga memuat hal sebagai berikut : \\n a. Dalam hal putusan menetapkan bahwa sesuatu penangkapan atau penahanan tidak sah; maka penyidik atau jaksa penuntut umum pada tingkat pemeriksaan masing-masing harus segera membebaskan tersangka; \\n b. Dalam hal putusan menetapkan bahwa sesuatu penghentian penyidikan atau penuntutan tidak sah, penyidikan atau penuntutan terhadap tersangka wajib dilanjutkan; \\n c. Dalam hal putusan menetapkan bahwa suatu penangkapan atau penahanan tidak sah, maka dalam putusan dicantumkan jumlah besarnya ganti kerugian dan rehabilitasi yang diberikan, sedangkan dalam hal suatu penghentian penyidikan atau penuntutan adalah sah dan tersangkanya tidak ditahan, maka dalam putusan dicantumkan rehabilitasinya; \\n d. Dalam hal putusan menetapkan bahwa benda yang disita ada yang tidak termasuk alat pembuktian, maka dalam putusan dicantumkan bahwa benda tersebut harus segera dikembalikan kepada tersangka atau dan siapa benda itu disita. \\n(4) Ganti kerugian dapat diminta, yang meliputi hal sebagaimana dimaksud dalam Pasal 77 dan Pasal 95.\"\n",
        "      ]\n",
        "    },\n",
        "    {\"tag\": \"Banding_Putusan_Pasal_83\",\n",
        "      \"patterns\": [\"Banding terhadap putusan praperadilan menurut Pasal 83\"],\n",
        "      \"responses\": [\n",
        "        \"(1) Terhadap putusan praperadilan dalam hal sebagaimana dimaksud dalam Pasal 79, Pasal 80, dan Pasal 81 tidak dapat dimintakan banding.\",\n",
        "        \"(2) Dikecualikan dari ketentuan ayat (1) adalah putusan praperadilan yang menetapkan tidak sahnya penghentian penyidikan atau penuntutan yang untuk itu dapat dimintakan putusan akhir ke pengadilan tinggi dalam daerah hukum yang bersangkutan.\"\n",
        "      ]\n",
        "    }\n",
        "]\n",
        "}"
      ],
      "metadata": {
        "colab": {
          "base_uri": "https://localhost:8080/"
        },
        "id": "7QkV4KoGIpud",
        "outputId": "09a0592d-8cb4-47cd-dd56-7f2ca05197ce"
      },
      "execution_count": 2,
      "outputs": [
        {
          "output_type": "stream",
          "name": "stdout",
          "text": [
            "Overwriting content.json\n"
          ]
        }
      ]
    },
    {
      "cell_type": "code",
      "source": [
        "\n",
        "with open(\"content.json\") as data_file:\n",
        "    data = json.load(data_file)"
      ],
      "metadata": {
        "id": "eIURn4xeIp1_"
      },
      "execution_count": 3,
      "outputs": []
    },
    {
      "cell_type": "code",
      "execution_count": 4,
      "metadata": {
        "colab": {
          "base_uri": "https://localhost:8080/",
          "height": 206
        },
        "id": "Xa5lW3LwIb1u",
        "outputId": "c7ac4298-5922-48e6-dd2b-55cb8d5f7f2a"
      },
      "outputs": [
        {
          "output_type": "execute_result",
          "data": {
            "text/plain": [
              "      text_input intents\n",
              "0           Halo  sapaan\n",
              "1             Hi  sapaan\n",
              "2   Selamat Pagi  sapaan\n",
              "3  Selamat Siang  sapaan\n",
              "4  Selamat Malam  sapaan"
            ],
            "text/html": [
              "\n",
              "  <div id=\"df-e3e82309-1737-4712-9bc1-bb0b19dab786\" class=\"colab-df-container\">\n",
              "    <div>\n",
              "<style scoped>\n",
              "    .dataframe tbody tr th:only-of-type {\n",
              "        vertical-align: middle;\n",
              "    }\n",
              "\n",
              "    .dataframe tbody tr th {\n",
              "        vertical-align: top;\n",
              "    }\n",
              "\n",
              "    .dataframe thead th {\n",
              "        text-align: right;\n",
              "    }\n",
              "</style>\n",
              "<table border=\"1\" class=\"dataframe\">\n",
              "  <thead>\n",
              "    <tr style=\"text-align: right;\">\n",
              "      <th></th>\n",
              "      <th>text_input</th>\n",
              "      <th>intents</th>\n",
              "    </tr>\n",
              "  </thead>\n",
              "  <tbody>\n",
              "    <tr>\n",
              "      <th>0</th>\n",
              "      <td>Halo</td>\n",
              "      <td>sapaan</td>\n",
              "    </tr>\n",
              "    <tr>\n",
              "      <th>1</th>\n",
              "      <td>Hi</td>\n",
              "      <td>sapaan</td>\n",
              "    </tr>\n",
              "    <tr>\n",
              "      <th>2</th>\n",
              "      <td>Selamat Pagi</td>\n",
              "      <td>sapaan</td>\n",
              "    </tr>\n",
              "    <tr>\n",
              "      <th>3</th>\n",
              "      <td>Selamat Siang</td>\n",
              "      <td>sapaan</td>\n",
              "    </tr>\n",
              "    <tr>\n",
              "      <th>4</th>\n",
              "      <td>Selamat Malam</td>\n",
              "      <td>sapaan</td>\n",
              "    </tr>\n",
              "  </tbody>\n",
              "</table>\n",
              "</div>\n",
              "    <div class=\"colab-df-buttons\">\n",
              "\n",
              "  <div class=\"colab-df-container\">\n",
              "    <button class=\"colab-df-convert\" onclick=\"convertToInteractive('df-e3e82309-1737-4712-9bc1-bb0b19dab786')\"\n",
              "            title=\"Convert this dataframe to an interactive table.\"\n",
              "            style=\"display:none;\">\n",
              "\n",
              "  <svg xmlns=\"http://www.w3.org/2000/svg\" height=\"24px\" viewBox=\"0 -960 960 960\">\n",
              "    <path d=\"M120-120v-720h720v720H120Zm60-500h600v-160H180v160Zm220 220h160v-160H400v160Zm0 220h160v-160H400v160ZM180-400h160v-160H180v160Zm440 0h160v-160H620v160ZM180-180h160v-160H180v160Zm440 0h160v-160H620v160Z\"/>\n",
              "  </svg>\n",
              "    </button>\n",
              "\n",
              "  <style>\n",
              "    .colab-df-container {\n",
              "      display:flex;\n",
              "      gap: 12px;\n",
              "    }\n",
              "\n",
              "    .colab-df-convert {\n",
              "      background-color: #E8F0FE;\n",
              "      border: none;\n",
              "      border-radius: 50%;\n",
              "      cursor: pointer;\n",
              "      display: none;\n",
              "      fill: #1967D2;\n",
              "      height: 32px;\n",
              "      padding: 0 0 0 0;\n",
              "      width: 32px;\n",
              "    }\n",
              "\n",
              "    .colab-df-convert:hover {\n",
              "      background-color: #E2EBFA;\n",
              "      box-shadow: 0px 1px 2px rgba(60, 64, 67, 0.3), 0px 1px 3px 1px rgba(60, 64, 67, 0.15);\n",
              "      fill: #174EA6;\n",
              "    }\n",
              "\n",
              "    .colab-df-buttons div {\n",
              "      margin-bottom: 4px;\n",
              "    }\n",
              "\n",
              "    [theme=dark] .colab-df-convert {\n",
              "      background-color: #3B4455;\n",
              "      fill: #D2E3FC;\n",
              "    }\n",
              "\n",
              "    [theme=dark] .colab-df-convert:hover {\n",
              "      background-color: #434B5C;\n",
              "      box-shadow: 0px 1px 3px 1px rgba(0, 0, 0, 0.15);\n",
              "      filter: drop-shadow(0px 1px 2px rgba(0, 0, 0, 0.3));\n",
              "      fill: #FFFFFF;\n",
              "    }\n",
              "  </style>\n",
              "\n",
              "    <script>\n",
              "      const buttonEl =\n",
              "        document.querySelector('#df-e3e82309-1737-4712-9bc1-bb0b19dab786 button.colab-df-convert');\n",
              "      buttonEl.style.display =\n",
              "        google.colab.kernel.accessAllowed ? 'block' : 'none';\n",
              "\n",
              "      async function convertToInteractive(key) {\n",
              "        const element = document.querySelector('#df-e3e82309-1737-4712-9bc1-bb0b19dab786');\n",
              "        const dataTable =\n",
              "          await google.colab.kernel.invokeFunction('convertToInteractive',\n",
              "                                                    [key], {});\n",
              "        if (!dataTable) return;\n",
              "\n",
              "        const docLinkHtml = 'Like what you see? Visit the ' +\n",
              "          '<a target=\"_blank\" href=https://colab.research.google.com/notebooks/data_table.ipynb>data table notebook</a>'\n",
              "          + ' to learn more about interactive tables.';\n",
              "        element.innerHTML = '';\n",
              "        dataTable['output_type'] = 'display_data';\n",
              "        await google.colab.output.renderOutput(dataTable, element);\n",
              "        const docLink = document.createElement('div');\n",
              "        docLink.innerHTML = docLinkHtml;\n",
              "        element.appendChild(docLink);\n",
              "      }\n",
              "    </script>\n",
              "  </div>\n",
              "\n",
              "\n",
              "<div id=\"df-c859f76b-6530-4b7a-90ce-9e0acd83720d\">\n",
              "  <button class=\"colab-df-quickchart\" onclick=\"quickchart('df-c859f76b-6530-4b7a-90ce-9e0acd83720d')\"\n",
              "            title=\"Suggest charts\"\n",
              "            style=\"display:none;\">\n",
              "\n",
              "<svg xmlns=\"http://www.w3.org/2000/svg\" height=\"24px\"viewBox=\"0 0 24 24\"\n",
              "     width=\"24px\">\n",
              "    <g>\n",
              "        <path d=\"M19 3H5c-1.1 0-2 .9-2 2v14c0 1.1.9 2 2 2h14c1.1 0 2-.9 2-2V5c0-1.1-.9-2-2-2zM9 17H7v-7h2v7zm4 0h-2V7h2v10zm4 0h-2v-4h2v4z\"/>\n",
              "    </g>\n",
              "</svg>\n",
              "  </button>\n",
              "\n",
              "<style>\n",
              "  .colab-df-quickchart {\n",
              "      --bg-color: #E8F0FE;\n",
              "      --fill-color: #1967D2;\n",
              "      --hover-bg-color: #E2EBFA;\n",
              "      --hover-fill-color: #174EA6;\n",
              "      --disabled-fill-color: #AAA;\n",
              "      --disabled-bg-color: #DDD;\n",
              "  }\n",
              "\n",
              "  [theme=dark] .colab-df-quickchart {\n",
              "      --bg-color: #3B4455;\n",
              "      --fill-color: #D2E3FC;\n",
              "      --hover-bg-color: #434B5C;\n",
              "      --hover-fill-color: #FFFFFF;\n",
              "      --disabled-bg-color: #3B4455;\n",
              "      --disabled-fill-color: #666;\n",
              "  }\n",
              "\n",
              "  .colab-df-quickchart {\n",
              "    background-color: var(--bg-color);\n",
              "    border: none;\n",
              "    border-radius: 50%;\n",
              "    cursor: pointer;\n",
              "    display: none;\n",
              "    fill: var(--fill-color);\n",
              "    height: 32px;\n",
              "    padding: 0;\n",
              "    width: 32px;\n",
              "  }\n",
              "\n",
              "  .colab-df-quickchart:hover {\n",
              "    background-color: var(--hover-bg-color);\n",
              "    box-shadow: 0 1px 2px rgba(60, 64, 67, 0.3), 0 1px 3px 1px rgba(60, 64, 67, 0.15);\n",
              "    fill: var(--button-hover-fill-color);\n",
              "  }\n",
              "\n",
              "  .colab-df-quickchart-complete:disabled,\n",
              "  .colab-df-quickchart-complete:disabled:hover {\n",
              "    background-color: var(--disabled-bg-color);\n",
              "    fill: var(--disabled-fill-color);\n",
              "    box-shadow: none;\n",
              "  }\n",
              "\n",
              "  .colab-df-spinner {\n",
              "    border: 2px solid var(--fill-color);\n",
              "    border-color: transparent;\n",
              "    border-bottom-color: var(--fill-color);\n",
              "    animation:\n",
              "      spin 1s steps(1) infinite;\n",
              "  }\n",
              "\n",
              "  @keyframes spin {\n",
              "    0% {\n",
              "      border-color: transparent;\n",
              "      border-bottom-color: var(--fill-color);\n",
              "      border-left-color: var(--fill-color);\n",
              "    }\n",
              "    20% {\n",
              "      border-color: transparent;\n",
              "      border-left-color: var(--fill-color);\n",
              "      border-top-color: var(--fill-color);\n",
              "    }\n",
              "    30% {\n",
              "      border-color: transparent;\n",
              "      border-left-color: var(--fill-color);\n",
              "      border-top-color: var(--fill-color);\n",
              "      border-right-color: var(--fill-color);\n",
              "    }\n",
              "    40% {\n",
              "      border-color: transparent;\n",
              "      border-right-color: var(--fill-color);\n",
              "      border-top-color: var(--fill-color);\n",
              "    }\n",
              "    60% {\n",
              "      border-color: transparent;\n",
              "      border-right-color: var(--fill-color);\n",
              "    }\n",
              "    80% {\n",
              "      border-color: transparent;\n",
              "      border-right-color: var(--fill-color);\n",
              "      border-bottom-color: var(--fill-color);\n",
              "    }\n",
              "    90% {\n",
              "      border-color: transparent;\n",
              "      border-bottom-color: var(--fill-color);\n",
              "    }\n",
              "  }\n",
              "</style>\n",
              "\n",
              "  <script>\n",
              "    async function quickchart(key) {\n",
              "      const quickchartButtonEl =\n",
              "        document.querySelector('#' + key + ' button');\n",
              "      quickchartButtonEl.disabled = true;  // To prevent multiple clicks.\n",
              "      quickchartButtonEl.classList.add('colab-df-spinner');\n",
              "      try {\n",
              "        const charts = await google.colab.kernel.invokeFunction(\n",
              "            'suggestCharts', [key], {});\n",
              "      } catch (error) {\n",
              "        console.error('Error during call to suggestCharts:', error);\n",
              "      }\n",
              "      quickchartButtonEl.classList.remove('colab-df-spinner');\n",
              "      quickchartButtonEl.classList.add('colab-df-quickchart-complete');\n",
              "    }\n",
              "    (() => {\n",
              "      let quickchartButtonEl =\n",
              "        document.querySelector('#df-c859f76b-6530-4b7a-90ce-9e0acd83720d button');\n",
              "      quickchartButtonEl.style.display =\n",
              "        google.colab.kernel.accessAllowed ? 'block' : 'none';\n",
              "    })();\n",
              "  </script>\n",
              "</div>\n",
              "    </div>\n",
              "  </div>\n"
            ]
          },
          "metadata": {},
          "execution_count": 4
        }
      ],
      "source": [
        "text_input = []\n",
        "intents = []\n",
        "\n",
        "for intent in data['intents']:\n",
        "    for pattern in intent['patterns']:\n",
        "        text_input.append(pattern)\n",
        "        intents.append(intent['tag'])\n",
        "\n",
        "df = pd.DataFrame({'text_input': text_input,\n",
        "                    'intents': intents})\n",
        "\n",
        "df.head()"
      ]
    },
    {
      "cell_type": "code",
      "execution_count": 5,
      "metadata": {
        "colab": {
          "base_uri": "https://localhost:8080/"
        },
        "id": "wNl70YxKIb1w",
        "outputId": "ab21c82b-fd2f-4374-e20e-c0bcd26bf325"
      },
      "outputs": [
        {
          "output_type": "execute_result",
          "data": {
            "text/plain": [
              "pamitan                            17\n",
              "sapaan                             16\n",
              "hukumq                             16\n",
              "siapa                              15\n",
              "Proses_Pemeriksaan_Pasal_82         4\n",
              "wewenang_praperadilan               3\n",
              "definisi_praperadilan               2\n",
              "Siapa_Berhak_Praperadilan           2\n",
              "pelaksanaan_wewenang_pasal_78       1\n",
              "Permintaan_Pemeriksaan_Pasal_79     1\n",
              "Permintaan_Pemeriksaan_Pasal_80     1\n",
              "Permintaan_Pemeriksaan_Pasal_81     1\n",
              "Banding_Putusan_Pasal_83            1\n",
              "Name: intents, dtype: int64"
            ]
          },
          "metadata": {},
          "execution_count": 5
        }
      ],
      "source": [
        "df.intents.value_counts()"
      ]
    },
    {
      "cell_type": "code",
      "execution_count": 6,
      "metadata": {
        "id": "qso_1-RMIb1w"
      },
      "outputs": [],
      "source": [
        "# data cleansing\n",
        "import string\n",
        "\n",
        "# convert lowercase\n",
        "df.text_input = df.text_input.apply(lambda x: x.lower())\n",
        "\n",
        "# remove punctuation\n",
        "exclude = set(string.punctuation)\n",
        "df.text_input = df.text_input.apply(lambda x: ''.join(ch for ch in x if ch not in exclude))"
      ]
    },
    {
      "cell_type": "code",
      "execution_count": 7,
      "metadata": {
        "id": "CyGChL72Ib1x",
        "colab": {
          "base_uri": "https://localhost:8080/"
        },
        "outputId": "adaccaa9-88ad-44f9-8479-9c216959004f"
      },
      "outputs": [
        {
          "output_type": "execute_result",
          "data": {
            "text/plain": [
              "array([[0., 0., 0., ..., 1., 0., 0.],\n",
              "       [0., 0., 0., ..., 1., 0., 0.],\n",
              "       [0., 0., 0., ..., 1., 0., 0.],\n",
              "       ...,\n",
              "       [0., 0., 0., ..., 0., 0., 0.],\n",
              "       [0., 0., 0., ..., 0., 0., 0.],\n",
              "       [1., 0., 0., ..., 0., 0., 0.]], dtype=float32)"
            ]
          },
          "metadata": {},
          "execution_count": 7
        }
      ],
      "source": [
        "# label encoding\n",
        "from sklearn.preprocessing import LabelEncoder\n",
        "from tensorflow.keras.utils import to_categorical\n",
        "\n",
        "le = LabelEncoder()\n",
        "y_train = le.fit_transform(df.intents)\n",
        "y_train = to_categorical(y_train)\n",
        "\n",
        "y_train"
      ]
    },
    {
      "cell_type": "code",
      "execution_count": 8,
      "metadata": {
        "id": "zM5kCPNxIb1x"
      },
      "outputs": [],
      "source": [
        "all_vocab = []\n",
        "length = []\n",
        "\n",
        "for idx, row in df.iterrows():\n",
        "    sent = row['text_input']\n",
        "    [all_vocab.append(i) for i in sent.split()]\n",
        "    length.append(len(sent.split()))"
      ]
    },
    {
      "cell_type": "code",
      "execution_count": 9,
      "metadata": {
        "colab": {
          "base_uri": "https://localhost:8080/"
        },
        "id": "VDg_2sVJIb1x",
        "outputId": "54af4e45-41cc-467d-caf3-b9386c02790a"
      },
      "outputs": [
        {
          "output_type": "execute_result",
          "data": {
            "text/plain": [
              "223"
            ]
          },
          "metadata": {},
          "execution_count": 9
        }
      ],
      "source": [
        "len(all_vocab)"
      ]
    },
    {
      "cell_type": "code",
      "execution_count": 10,
      "metadata": {
        "colab": {
          "base_uri": "https://localhost:8080/"
        },
        "id": "_qkL9aQnIb1y",
        "outputId": "3ee8a232-a937-458c-9185-445afe36f3ca"
      },
      "outputs": [
        {
          "output_type": "execute_result",
          "data": {
            "text/plain": [
              "8"
            ]
          },
          "metadata": {},
          "execution_count": 10
        }
      ],
      "source": [
        "max(length)"
      ]
    },
    {
      "cell_type": "code",
      "execution_count": 11,
      "metadata": {
        "colab": {
          "base_uri": "https://localhost:8080/"
        },
        "id": "GPoDJ8foIb1z",
        "outputId": "dd456722-a6bc-494f-b584-7a4c80b74ebb"
      },
      "outputs": [
        {
          "output_type": "execute_result",
          "data": {
            "text/plain": [
              "115"
            ]
          },
          "metadata": {},
          "execution_count": 11
        }
      ],
      "source": [
        "len(set(all_vocab))"
      ]
    },
    {
      "cell_type": "code",
      "execution_count": 12,
      "metadata": {
        "id": "YibPVpR_Ib1z"
      },
      "outputs": [],
      "source": [
        "from tensorflow.keras.layers import TextVectorization\n",
        "\n",
        "max_vocab_length = 109\n",
        "max_length = 8\n",
        "\n",
        "text_vectorization = TextVectorization(max_tokens=max_vocab_length,\n",
        "                                       standardize='lower_and_strip_punctuation',\n",
        "                                       split='whitespace',\n",
        "                                       ngrams=None,\n",
        "                                       output_mode='int',\n",
        "                                       output_sequence_length=max_length\n",
        "                                       )\n"
      ]
    },
    {
      "cell_type": "code",
      "execution_count": 13,
      "metadata": {
        "id": "AkN_axjZIb10"
      },
      "outputs": [],
      "source": [
        "text_vectorization.adapt(df.text_input)"
      ]
    },
    {
      "cell_type": "code",
      "execution_count": 14,
      "metadata": {
        "colab": {
          "base_uri": "https://localhost:8080/"
        },
        "id": "s7InQxLcIb10",
        "outputId": "a17adfc5-0c58-43c9-c02d-63390df0645a"
      },
      "outputs": [
        {
          "output_type": "execute_result",
          "data": {
            "text/plain": [
              "['',\n",
              " '[UNK]',\n",
              " 'hukumq',\n",
              " 'apa',\n",
              " 'praperadilan',\n",
              " 'pasal',\n",
              " 'menurut',\n",
              " 'kamu',\n",
              " 'siapa',\n",
              " 'itu',\n",
              " 'pemeriksaan',\n",
              " 'selamat',\n",
              " 'nama',\n",
              " '82',\n",
              " 'yang',\n",
              " 'terima',\n",
              " 'salam',\n",
              " 'permintaan',\n",
              " 'kasih',\n",
              " 'jelaskan',\n",
              " 'definisi',\n",
              " 'bisa',\n",
              " 'wewenang',\n",
              " 'tolong',\n",
              " 'terimakasih',\n",
              " 'proses',\n",
              " 'pengadilan',\n",
              " 'negeri',\n",
              " 'kita',\n",
              " 'hai',\n",
              " 'diri',\n",
              " 'berbicara',\n",
              " 'arti',\n",
              " 'apakah',\n",
              " 'anda',\n",
              " 'yangsedang',\n",
              " 'waktu',\n",
              " 'untukmu',\n",
              " 'tinggal',\n",
              " 'terhadap',\n",
              " 'tentang',\n",
              " 'tahu',\n",
              " 'sukses',\n",
              " 'spada',\n",
              " 'sobat',\n",
              " 'sini',\n",
              " 'singkat',\n",
              " 'siapakah',\n",
              " 'siang',\n",
              " 'seperti',\n",
              " 'semoga',\n",
              " 'sejahtera',\n",
              " 'sedang',\n",
              " 'sebutkan',\n",
              " 'putusan',\n",
              " 'punya',\n",
              " 'perkenalkan',\n",
              " 'perhatiannya',\n",
              " 'penuh',\n",
              " 'pengajuan',\n",
              " 'pelaksanaan',\n",
              " 'panggilan',\n",
              " 'pagi',\n",
              " 'p',\n",
              " 'oy',\n",
              " 'online',\n",
              " 'oke',\n",
              " 'okay',\n",
              " 'oi',\n",
              " 'nggak',\n",
              " 'namamu',\n",
              " 'mu',\n",
              " 'menjelaskan',\n",
              " 'mengajukan',\n",
              " 'memperkenalkan',\n",
              " 'memberikan',\n",
              " 'mari',\n",
              " 'malam',\n",
              " 'makasih',\n",
              " 'kuhap',\n",
              " 'kesatu',\n",
              " 'kenalan',\n",
              " 'kenal',\n",
              " 'kembali',\n",
              " 'kawan',\n",
              " 'istilah',\n",
              " 'identitas',\n",
              " 'hingga',\n",
              " 'hi',\n",
              " 'harimu',\n",
              " 'halo',\n",
              " 'dirimu',\n",
              " 'dimaksud',\n",
              " 'di',\n",
              " 'dengan',\n",
              " 'dan',\n",
              " 'dalam',\n",
              " 'dah',\n",
              " 'dadah',\n",
              " 'daah',\n",
              " 'bye',\n",
              " 'boleh',\n",
              " 'bisakah',\n",
              " 'bertemu',\n",
              " 'berkah',\n",
              " 'berhak',\n",
              " 'banyak',\n",
              " 'banding',\n",
              " 'bagian']"
            ]
          },
          "metadata": {},
          "execution_count": 14
        }
      ],
      "source": [
        "text_vectorization.get_vocabulary()"
      ]
    },
    {
      "cell_type": "code",
      "execution_count": 15,
      "metadata": {
        "colab": {
          "base_uri": "https://localhost:8080/"
        },
        "id": "0SQ40D5jIb10",
        "outputId": "f2e6452b-61b2-4b26-dd45-91f23834dc89"
      },
      "outputs": [
        {
          "output_type": "execute_result",
          "data": {
            "text/plain": [
              "<tf.Tensor: shape=(8,), dtype=int64, numpy=array([90, 12,  7,  8,  0,  0,  0,  0])>"
            ]
          },
          "metadata": {},
          "execution_count": 15
        }
      ],
      "source": [
        "text_vectorization('halo nama kamu siapa')"
      ]
    },
    {
      "cell_type": "code",
      "execution_count": 16,
      "metadata": {
        "colab": {
          "base_uri": "https://localhost:8080/",
          "height": 36
        },
        "id": "f9F9mVSQIb10",
        "outputId": "fe67d956-cbb6-40b2-b0d2-d471d07732ef"
      },
      "outputs": [
        {
          "output_type": "execute_result",
          "data": {
            "text/plain": [
              "'hingga'"
            ],
            "application/vnd.google.colaboratory.intrinsic+json": {
              "type": "string"
            }
          },
          "metadata": {},
          "execution_count": 16
        }
      ],
      "source": [
        "text_vectorization.get_vocabulary()[87]"
      ]
    },
    {
      "cell_type": "code",
      "execution_count": 17,
      "metadata": {
        "id": "OHkX2jplIb11"
      },
      "outputs": [],
      "source": [
        "from tensorflow.keras.layers import Embedding\n",
        "embedding = Embedding(input_dim=max_vocab_length,\n",
        "                      output_dim=16,\n",
        "                      embeddings_initializer=\"uniform\",\n",
        "                      input_length=max_length)"
      ]
    },
    {
      "cell_type": "code",
      "execution_count": 18,
      "metadata": {
        "colab": {
          "base_uri": "https://localhost:8080/"
        },
        "id": "cjQtYRgUIb11",
        "outputId": "78c3c6a0-adbe-4383-b8ce-72b78926c987"
      },
      "outputs": [
        {
          "output_type": "execute_result",
          "data": {
            "text/plain": [
              "<tf.Tensor: shape=(1, 8, 16), dtype=float32, numpy=\n",
              "array([[[ 0.02662951,  0.03956754,  0.01691711, -0.04837078,\n",
              "         -0.04106796,  0.03332185,  0.00535796, -0.02684052,\n",
              "          0.02651742,  0.04973558, -0.02333057, -0.04744947,\n",
              "          0.00584307,  0.00305169, -0.02402688,  0.0041795 ],\n",
              "        [ 0.03163398, -0.00637601,  0.00466662,  0.02949706,\n",
              "          0.0219594 ,  0.03526193, -0.01520979, -0.00121517,\n",
              "         -0.01248968,  0.03922851, -0.04074477, -0.03311045,\n",
              "         -0.04172331,  0.04511538,  0.04616633, -0.04962365],\n",
              "        [ 0.02545417, -0.04392049, -0.00999232,  0.00535361,\n",
              "          0.02226018, -0.01861401,  0.04737008,  0.02062878,\n",
              "          0.01512016,  0.00690907,  0.00403487, -0.03245908,\n",
              "         -0.03154154, -0.02945808,  0.04417832,  0.03510252],\n",
              "        [-0.00412237, -0.00925868,  0.01368208,  0.04508064,\n",
              "          0.01768429,  0.03683412,  0.04187426, -0.02874045,\n",
              "         -0.01384505, -0.01996065, -0.04717481, -0.02268647,\n",
              "          0.02492778,  0.0046677 ,  0.00052274, -0.00731374],\n",
              "        [-0.00263036, -0.02304488,  0.0348275 ,  0.02827271,\n",
              "         -0.0091162 , -0.0466002 ,  0.04103012,  0.01227832,\n",
              "         -0.00585832,  0.00459113,  0.04588611,  0.04229153,\n",
              "          0.02215621,  0.0006508 ,  0.03538178, -0.04979501],\n",
              "        [-0.00263036, -0.02304488,  0.0348275 ,  0.02827271,\n",
              "         -0.0091162 , -0.0466002 ,  0.04103012,  0.01227832,\n",
              "         -0.00585832,  0.00459113,  0.04588611,  0.04229153,\n",
              "          0.02215621,  0.0006508 ,  0.03538178, -0.04979501],\n",
              "        [-0.00263036, -0.02304488,  0.0348275 ,  0.02827271,\n",
              "         -0.0091162 , -0.0466002 ,  0.04103012,  0.01227832,\n",
              "         -0.00585832,  0.00459113,  0.04588611,  0.04229153,\n",
              "          0.02215621,  0.0006508 ,  0.03538178, -0.04979501],\n",
              "        [-0.00263036, -0.02304488,  0.0348275 ,  0.02827271,\n",
              "         -0.0091162 , -0.0466002 ,  0.04103012,  0.01227832,\n",
              "         -0.00585832,  0.00459113,  0.04588611,  0.04229153,\n",
              "          0.02215621,  0.0006508 ,  0.03538178, -0.04979501]]],\n",
              "      dtype=float32)>"
            ]
          },
          "metadata": {},
          "execution_count": 18
        }
      ],
      "source": [
        "import numpy as np\n",
        "res_embed = embedding(np.array([[87,  9,  4,  5,  0,  0,  0,  0]]))\n",
        "res_embed"
      ]
    },
    {
      "cell_type": "code",
      "execution_count": 19,
      "metadata": {
        "id": "QswOT5OuIb11"
      },
      "outputs": [],
      "source": [
        "# modelling\n",
        "from tensorflow.keras import Model\n",
        "from tensorflow.keras.layers import Input, Dense, LSTM\n",
        "inputs = Input(shape=(1,), dtype='string')\n",
        "x = text_vectorization(inputs)\n",
        "x = embedding(x)\n",
        "x = LSTM(12)(x)\n",
        "outputs = Dense(13, activation='softmax')(x)\n",
        "model_lstm = Model(inputs, outputs, name=\"LSTM_model\")"
      ]
    },
    {
      "cell_type": "code",
      "execution_count": 20,
      "metadata": {
        "id": "Myv-zJ4eIb11"
      },
      "outputs": [],
      "source": [
        "# compile model\n",
        "model_lstm.compile(loss='categorical_crossentropy',\n",
        "                   optimizer='adam',\n",
        "                   metrics=[\"accuracy\"])"
      ]
    },
    {
      "cell_type": "code",
      "source": [
        "df.text_input"
      ],
      "metadata": {
        "colab": {
          "base_uri": "https://localhost:8080/"
        },
        "id": "rcRahwZM5xP4",
        "outputId": "eeada548-257c-4f5c-a2eb-f82cc9a1eceb"
      },
      "execution_count": 21,
      "outputs": [
        {
          "output_type": "execute_result",
          "data": {
            "text/plain": [
              "0                                                  halo\n",
              "1                                                    hi\n",
              "2                                          selamat pagi\n",
              "3                                         selamat siang\n",
              "4                                         selamat malam\n",
              "                            ...                        \n",
              "75     proses pemeriksaan praperadilan menurut pasal 82\n",
              "76                                             pasal 82\n",
              "77            pemeriksaan praperadilan menurut pasal 82\n",
              "78                        praperadilan menurut pasal 82\n",
              "79    banding terhadap putusan praperadilan menurut ...\n",
              "Name: text_input, Length: 80, dtype: object"
            ]
          },
          "metadata": {},
          "execution_count": 21
        }
      ]
    },
    {
      "cell_type": "code",
      "execution_count": 22,
      "metadata": {
        "colab": {
          "base_uri": "https://localhost:8080/"
        },
        "id": "n7OfbaUSIb11",
        "outputId": "751ea232-e10c-468f-e032-ce07c14a6497"
      },
      "outputs": [
        {
          "output_type": "execute_result",
          "data": {
            "text/plain": [
              "<keras.src.callbacks.History at 0x79375961d390>"
            ]
          },
          "metadata": {},
          "execution_count": 22
        }
      ],
      "source": [
        "model_lstm.fit(df.text_input,\n",
        "               y_train,\n",
        "               epochs=200,\n",
        "               verbose=0)"
      ]
    },
    {
      "cell_type": "code",
      "execution_count": 23,
      "metadata": {
        "colab": {
          "base_uri": "https://localhost:8080/"
        },
        "id": "Zo-UbacpIb12",
        "outputId": "ec511182-4c81-4776-93fa-95e452ba841d"
      },
      "outputs": [
        {
          "output_type": "stream",
          "name": "stdout",
          "text": [
            "3/3 [==============================] - 1s 6ms/step - loss: 0.2336 - accuracy: 0.9250\n"
          ]
        },
        {
          "output_type": "execute_result",
          "data": {
            "text/plain": [
              "[0.2336457073688507, 0.925000011920929]"
            ]
          },
          "metadata": {},
          "execution_count": 23
        }
      ],
      "source": [
        "model_lstm.evaluate(df.text_input, y_train)"
      ]
    },
    {
      "cell_type": "code",
      "execution_count": 24,
      "metadata": {
        "id": "s-yC9FxCIb14"
      },
      "outputs": [],
      "source": [
        "model_lstm.save(\"bot_model.tf\")"
      ]
    },
    {
      "cell_type": "code",
      "source": [
        "import nltk\n",
        "nltk.download('punkt')"
      ],
      "metadata": {
        "id": "AChMpxwFKY-G",
        "colab": {
          "base_uri": "https://localhost:8080/"
        },
        "outputId": "7bd47105-05cf-4997-9bb1-0c7210979630"
      },
      "execution_count": 25,
      "outputs": [
        {
          "output_type": "stream",
          "name": "stderr",
          "text": [
            "[nltk_data] Downloading package punkt to /root/nltk_data...\n",
            "[nltk_data]   Package punkt is already up-to-date!\n"
          ]
        },
        {
          "output_type": "execute_result",
          "data": {
            "text/plain": [
              "True"
            ]
          },
          "metadata": {},
          "execution_count": 25
        }
      ]
    },
    {
      "cell_type": "code",
      "execution_count": 26,
      "metadata": {
        "id": "DlMJXsk_Ib15"
      },
      "outputs": [],
      "source": [
        "import pickle\n",
        "le_filename = open(\"label_encoder.pickle\", \"wb\")\n",
        "pickle.dump(le, le_filename)\n",
        "le_filename.close()"
      ]
    },
    {
      "cell_type": "code",
      "execution_count": 27,
      "metadata": {
        "colab": {
          "base_uri": "https://localhost:8080/",
          "height": 688
        },
        "id": "-_c-mRcnIb15",
        "outputId": "2fa792ab-26d3-4176-895d-f5c16e879bd1"
      },
      "outputs": [
        {
          "output_type": "stream",
          "name": "stdout",
          "text": [
            "Anda akan dihubungkan ke bot kami, mohon ditunggu\n",
            "Anda : pasal 82\n",
            "1/1 [==============================] - 1s 797ms/step\n",
            "Bot : \n",
            "(1) Acara pemeriksaan praperadilan untuk hal sebagaimana dimaksud dalam Pasal 79, Pasal 80 dan Pasal 81 ditentukan sebagai berikut: \n",
            " a. Dalam waktu tiga hari setelah diterimanya permintaan, hakim yang ditunjuk menetapkan hari sidang; \n",
            " b. Dalam memeriksa dan memutus tentang sah atau tidaknya penangkapan atau penahanan, sah atau tidaknya penghentian penyidikan atau penuntutan; permintaan ganti kerugian dan atau rehabilitasi akibat tidak sahnya penangkapan atau penahanan, akibat sahnya penghentian penyidikan atau penuntutan dan ada benda yang disita yang tidak termasuk alat pembuktian, hakim mendengar keterangan baik dan tersangka atau pemohon maupun dan pejabat yang berwenang; \n",
            " c. Pemeriksaan tersebut dilakukan cara cepat dan selambat-lambatnya tujuh hari hakim harus sudah menjatuhkan putusannya;\n",
            " d. Dalam hal suatu perkara sudah mulai diperiksa oleh pengadilan negeri sedangkan pemeriksaan mengenai permintaan kepada praperadilan belum selesai, maka permintaan tersebut gugur; \n",
            " e. Putusan praperadilan pada tingkat penyidikan tidak menutup kemungkinan untuk mengadakan pemeriksaan praperadilan lagi pada tingkat pemeriksaan oleh penuntut umum, jika untuk itu diajukan permintaan baru. \n",
            "(2) Putusan hakim dalam acara pemeriksaan praperadilan mengenai hal sebagaimana dimaksud dalam Pasal 79, Pasal 80 dan Pasal 81, harus memuat dengan jelas dasar dan alasannya. \n",
            "(3) Isi putusan selain memuat ketentuan sebagaimana dimaksud dalam ayat (2) juga memuat hal sebagai berikut : \n",
            " a. Dalam hal putusan menetapkan bahwa sesuatu penangkapan atau penahanan tidak sah; maka penyidik atau jaksa penuntut umum pada tingkat pemeriksaan masing-masing harus segera membebaskan tersangka; \n",
            " b. Dalam hal putusan menetapkan bahwa sesuatu penghentian penyidikan atau penuntutan tidak sah, penyidikan atau penuntutan terhadap tersangka wajib dilanjutkan; \n",
            " c. Dalam hal putusan menetapkan bahwa suatu penangkapan atau penahanan tidak sah, maka dalam putusan dicantumkan jumlah besarnya ganti kerugian dan rehabilitasi yang diberikan, sedangkan dalam hal suatu penghentian penyidikan atau penuntutan adalah sah dan tersangkanya tidak ditahan, maka dalam putusan dicantumkan rehabilitasinya; \n",
            " d. Dalam hal putusan menetapkan bahwa benda yang disita ada yang tidak termasuk alat pembuktian, maka dalam putusan dicantumkan bahwa benda tersebut harus segera dikembalikan kepada tersangka atau dan siapa benda itu disita. \n",
            "(4) Ganti kerugian dapat diminta, yang meliputi hal sebagaimana dimaksud dalam Pasal 77 dan Pasal 95.\n"
          ]
        },
        {
          "output_type": "error",
          "ename": "KeyboardInterrupt",
          "evalue": "ignored",
          "traceback": [
            "\u001b[0;31m---------------------------------------------------------------------------\u001b[0m",
            "\u001b[0;31mKeyboardInterrupt\u001b[0m                         Traceback (most recent call last)",
            "\u001b[0;32m<ipython-input-27-f09ac4d7e686>\u001b[0m in \u001b[0;36m<cell line: 40>\u001b[0;34m()\u001b[0m\n\u001b[1;32m     39\u001b[0m \u001b[0;34m\u001b[0m\u001b[0m\n\u001b[1;32m     40\u001b[0m \u001b[0;32mif\u001b[0m \u001b[0m__name__\u001b[0m \u001b[0;34m==\u001b[0m \u001b[0;34m\"__main__\"\u001b[0m\u001b[0;34m:\u001b[0m\u001b[0;34m\u001b[0m\u001b[0;34m\u001b[0m\u001b[0m\n\u001b[0;32m---> 41\u001b[0;31m     \u001b[0mchat\u001b[0m\u001b[0;34m(\u001b[0m\u001b[0mmodel\u001b[0m\u001b[0;34m)\u001b[0m\u001b[0;34m\u001b[0m\u001b[0;34m\u001b[0m\u001b[0m\n\u001b[0m",
            "\u001b[0;32m<ipython-input-27-f09ac4d7e686>\u001b[0m in \u001b[0;36mchat\u001b[0;34m(model)\u001b[0m\n\u001b[1;32m     23\u001b[0m     \u001b[0mexit\u001b[0m \u001b[0;34m=\u001b[0m \u001b[0;32mFalse\u001b[0m\u001b[0;34m\u001b[0m\u001b[0;34m\u001b[0m\u001b[0m\n\u001b[1;32m     24\u001b[0m     \u001b[0;32mwhile\u001b[0m \u001b[0;32mnot\u001b[0m \u001b[0mexit\u001b[0m\u001b[0;34m:\u001b[0m\u001b[0;34m\u001b[0m\u001b[0;34m\u001b[0m\u001b[0m\n\u001b[0;32m---> 25\u001b[0;31m         \u001b[0minp\u001b[0m \u001b[0;34m=\u001b[0m \u001b[0minput\u001b[0m\u001b[0;34m(\u001b[0m\u001b[0;34m\"Anda : \"\u001b[0m\u001b[0;34m)\u001b[0m\u001b[0;34m\u001b[0m\u001b[0;34m\u001b[0m\u001b[0m\n\u001b[0m\u001b[1;32m     26\u001b[0m         \u001b[0minp\u001b[0m \u001b[0;34m=\u001b[0m \u001b[0mpreprocess_string\u001b[0m\u001b[0;34m(\u001b[0m\u001b[0minp\u001b[0m\u001b[0;34m)\u001b[0m\u001b[0;34m\u001b[0m\u001b[0;34m\u001b[0m\u001b[0m\n\u001b[1;32m     27\u001b[0m         \u001b[0mprob\u001b[0m \u001b[0;34m=\u001b[0m \u001b[0mmodel\u001b[0m\u001b[0;34m.\u001b[0m\u001b[0mpredict\u001b[0m\u001b[0;34m(\u001b[0m\u001b[0;34m[\u001b[0m\u001b[0minp\u001b[0m\u001b[0;34m]\u001b[0m\u001b[0;34m)\u001b[0m\u001b[0;34m\u001b[0m\u001b[0;34m\u001b[0m\u001b[0m\n",
            "\u001b[0;32m/usr/local/lib/python3.10/dist-packages/ipykernel/kernelbase.py\u001b[0m in \u001b[0;36mraw_input\u001b[0;34m(self, prompt)\u001b[0m\n\u001b[1;32m    849\u001b[0m                 \u001b[0;34m\"raw_input was called, but this frontend does not support input requests.\"\u001b[0m\u001b[0;34m\u001b[0m\u001b[0;34m\u001b[0m\u001b[0m\n\u001b[1;32m    850\u001b[0m             )\n\u001b[0;32m--> 851\u001b[0;31m         return self._input_request(str(prompt),\n\u001b[0m\u001b[1;32m    852\u001b[0m             \u001b[0mself\u001b[0m\u001b[0;34m.\u001b[0m\u001b[0m_parent_ident\u001b[0m\u001b[0;34m,\u001b[0m\u001b[0;34m\u001b[0m\u001b[0;34m\u001b[0m\u001b[0m\n\u001b[1;32m    853\u001b[0m             \u001b[0mself\u001b[0m\u001b[0;34m.\u001b[0m\u001b[0m_parent_header\u001b[0m\u001b[0;34m,\u001b[0m\u001b[0;34m\u001b[0m\u001b[0;34m\u001b[0m\u001b[0m\n",
            "\u001b[0;32m/usr/local/lib/python3.10/dist-packages/ipykernel/kernelbase.py\u001b[0m in \u001b[0;36m_input_request\u001b[0;34m(self, prompt, ident, parent, password)\u001b[0m\n\u001b[1;32m    893\u001b[0m             \u001b[0;32mexcept\u001b[0m \u001b[0mKeyboardInterrupt\u001b[0m\u001b[0;34m:\u001b[0m\u001b[0;34m\u001b[0m\u001b[0;34m\u001b[0m\u001b[0m\n\u001b[1;32m    894\u001b[0m                 \u001b[0;31m# re-raise KeyboardInterrupt, to truncate traceback\u001b[0m\u001b[0;34m\u001b[0m\u001b[0;34m\u001b[0m\u001b[0m\n\u001b[0;32m--> 895\u001b[0;31m                 \u001b[0;32mraise\u001b[0m \u001b[0mKeyboardInterrupt\u001b[0m\u001b[0;34m(\u001b[0m\u001b[0;34m\"Interrupted by user\"\u001b[0m\u001b[0;34m)\u001b[0m \u001b[0;32mfrom\u001b[0m \u001b[0;32mNone\u001b[0m\u001b[0;34m\u001b[0m\u001b[0;34m\u001b[0m\u001b[0m\n\u001b[0m\u001b[1;32m    896\u001b[0m             \u001b[0;32mexcept\u001b[0m \u001b[0mException\u001b[0m \u001b[0;32mas\u001b[0m \u001b[0me\u001b[0m\u001b[0;34m:\u001b[0m\u001b[0;34m\u001b[0m\u001b[0;34m\u001b[0m\u001b[0m\n\u001b[1;32m    897\u001b[0m                 \u001b[0mself\u001b[0m\u001b[0;34m.\u001b[0m\u001b[0mlog\u001b[0m\u001b[0;34m.\u001b[0m\u001b[0mwarning\u001b[0m\u001b[0;34m(\u001b[0m\u001b[0;34m\"Invalid Message:\"\u001b[0m\u001b[0;34m,\u001b[0m \u001b[0mexc_info\u001b[0m\u001b[0;34m=\u001b[0m\u001b[0;32mTrue\u001b[0m\u001b[0;34m)\u001b[0m\u001b[0;34m\u001b[0m\u001b[0;34m\u001b[0m\u001b[0m\n",
            "\u001b[0;31mKeyboardInterrupt\u001b[0m: Interrupted by user"
          ]
        }
      ],
      "source": [
        "# import library\n",
        "import json\n",
        "from string import punctuation\n",
        "import random\n",
        "import pickle\n",
        "from tensorflow.keras.models import load_model\n",
        "\n",
        "with open(\"content.json\") as data_file:\n",
        "    data = json.load(data_file)\n",
        "model = load_model('bot_model.tf')\n",
        "le_filename = open(\"label_encoder.pickle\", \"rb\")\n",
        "le = pickle.load(le_filename)\n",
        "le_filename.close()\n",
        "\n",
        "def preprocess_string(string):\n",
        "    string = string.lower()\n",
        "    exclude = set(punctuation)\n",
        "    string = ''.join(ch for ch in string if ch not in exclude)\n",
        "    return string\n",
        "\n",
        "def chat(model):\n",
        "    print(\"Anda akan dihubungkan ke bot kami, mohon ditunggu\")\n",
        "    exit = False\n",
        "    while not exit:\n",
        "        inp = input(\"Anda : \")\n",
        "        inp = preprocess_string(inp)\n",
        "        prob = model.predict([inp])\n",
        "        results = le.classes_[prob.argmax()]\n",
        "        if prob.max() < 0.2:\n",
        "            print(\"Bot : Maaf kak, aku ga ngerti\")\n",
        "        else:\n",
        "            for tg in data['intents']:\n",
        "                if tg['tag'] == results:\n",
        "                    responses = tg['responses']\n",
        "            if results == 'pamitan':\n",
        "                exit = True\n",
        "                print(\"END CHAT\")\n",
        "            print(f\"Bot : {random.choice(responses)}\")\n",
        "\n",
        "if __name__ == \"__main__\":\n",
        "    chat(model)"
      ]
    },
    {
      "cell_type": "code",
      "source": [],
      "metadata": {
        "id": "Q6ruEQbGJko4"
      },
      "execution_count": null,
      "outputs": []
    }
  ],
  "metadata": {
    "interpreter": {
      "hash": "1f180c9902c79289e42d46c71793a81f467ad9cf5bddb81fabe478121971048b"
    },
    "kernelspec": {
      "display_name": "Python 3.9.7 64-bit ('tf-cpu-dl': pyenv)",
      "language": "python",
      "name": "python3"
    },
    "language_info": {
      "codemirror_mode": {
        "name": "ipython",
        "version": 3
      },
      "file_extension": ".py",
      "mimetype": "text/x-python",
      "name": "python",
      "nbconvert_exporter": "python",
      "pygments_lexer": "ipython3",
      "version": "3.9.7"
    },
    "orig_nbformat": 4,
    "colab": {
      "provenance": [],
      "include_colab_link": true
    }
  },
  "nbformat": 4,
  "nbformat_minor": 0
}